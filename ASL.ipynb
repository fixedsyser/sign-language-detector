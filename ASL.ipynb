{
 "cells": [
  {
   "cell_type": "code",
   "execution_count": null,
   "metadata": {},
   "outputs": [],
   "source": [
    "#%pip install mediapipe"
   ]
  },
  {
   "cell_type": "code",
   "execution_count": null,
   "metadata": {},
   "outputs": [],
   "source": [
    "import mediapipe as mp\n",
    "from matplotlib import pyplot as plt\n",
    "import random\n",
    "import glob\n",
    "from util import draw_landmarks_on_image"
   ]
  },
  {
   "cell_type": "code",
   "execution_count": null,
   "metadata": {},
   "outputs": [],
   "source": [
    "# extract dataset from zip\n",
    "import zipfile\n",
    "with zipfile.ZipFile(\"american-sign-language-letters.v1i.coco.zip\",\"r\") as zip_ref:\n",
    "    zip_ref.extractall(\"american-sign-language-letters.v1i.coco\")"
   ]
  },
  {
   "cell_type": "code",
   "execution_count": null,
   "metadata": {},
   "outputs": [],
   "source": [
    "# trained model from mediapipe for hand landmark detection\n",
    "model_path = 'hand_landmarker.task'"
   ]
  },
  {
   "cell_type": "code",
   "execution_count": null,
   "metadata": {},
   "outputs": [],
   "source": [
    "# objects needed to create landmark detectors\n",
    "BaseOptions = mp.tasks.BaseOptions\n",
    "HandLandmarker = mp.tasks.vision.HandLandmarker\n",
    "HandLandmarkerOptions = mp.tasks.vision.HandLandmarkerOptions\n",
    "HandLandmarkerResult = mp.tasks.vision.HandLandmarkerResult\n",
    "VisionRunningMode = mp.tasks.vision.RunningMode"
   ]
  },
  {
   "cell_type": "code",
   "execution_count": null,
   "metadata": {},
   "outputs": [],
   "source": [
    "# create hand_landmarker detector from image\n",
    "def create_landmark_detector_img():\n",
    "    # use this method either in conjuction with a 'with' statement\n",
    "    # or use detector.close() after you are done detecting \n",
    "    # to prevent resource leaking\n",
    "    options = HandLandmarkerOptions(\n",
    "        base_options=BaseOptions(model_asset_path=model_path),\n",
    "        running_mode=VisionRunningMode.IMAGE)\n",
    "    return HandLandmarker.create_from_options(options)"
   ]
  },
  {
   "cell_type": "code",
   "execution_count": null,
   "metadata": {},
   "outputs": [],
   "source": [
    "def detect_landmark_img(image):\n",
    "    with create_landmark_detector_img() as landmark_detector:\n",
    "        detection_result = landmark_detector.detect(image)\n",
    "    return detection_result"
   ]
  },
  {
   "cell_type": "code",
   "execution_count": null,
   "metadata": {},
   "outputs": [],
   "source": [
    "# prepare from image\n",
    "def get_random_image():\n",
    "    filename = random.choice(glob.glob('./american-sign-language-letters.v1i.coco/train/*.jpg'))\n",
    "    return mp.Image.create_from_file(filename)\n",
    "\n",
    "# # Load the input image from a numpy array.\n",
    "# mp_image = mp.Image(image_format=mp.ImageFormat.SRGB, data=numpy_image)"
   ]
  },
  {
   "cell_type": "code",
   "execution_count": null,
   "metadata": {},
   "outputs": [],
   "source": [
    "def detect_and_show_image(image):\n",
    "    detection_result = detect_landmark_img(image)\n",
    "                    # method in util.py\n",
    "    annotated_image = draw_landmarks_on_image(image.numpy_view(), detection_result)\n",
    "    plt.axis('off')\n",
    "    plt.imshow(annotated_image)\n"
   ]
  },
  {
   "cell_type": "code",
   "execution_count": null,
   "metadata": {},
   "outputs": [],
   "source": [
    "detect_and_show_image(get_random_image())"
   ]
  },
  {
   "cell_type": "code",
   "execution_count": null,
   "metadata": {},
   "outputs": [],
   "source": [
    "# create hand_landmarker from live stream\n",
    "def create_landmark_detector_stream():\n",
    "    # use this method either in conjuction with a 'with' statement\n",
    "    # or use detector.close() after you are done detecting \n",
    "    # to prevent resource leaking\n",
    "    def print_result(result: HandLandmarkerResult, output_image: mp.Image, timestamp_ms: int):\n",
    "        print('hand landmarker result: {}'.format(result))\n",
    "\n",
    "    \n",
    "    # Create a hand landmarker instance with the live stream mode:\n",
    "    options = HandLandmarkerOptions(\n",
    "        base_options=BaseOptions(model_asset_path=model_path),\n",
    "        running_mode=VisionRunningMode.LIVE_STREAM,\n",
    "        result_callback=print_result)\n",
    "    \n",
    "    return HandLandmarker.create_from_options(options)"
   ]
  }
 ],
 "metadata": {
  "kernelspec": {
   "display_name": "base",
   "language": "python",
   "name": "python3"
  },
  "language_info": {
   "codemirror_mode": {
    "name": "ipython",
    "version": 3
   },
   "file_extension": ".py",
   "mimetype": "text/x-python",
   "name": "python",
   "nbconvert_exporter": "python",
   "pygments_lexer": "ipython3",
   "version": "3.11.5"
  }
 },
 "nbformat": 4,
 "nbformat_minor": 2
}
