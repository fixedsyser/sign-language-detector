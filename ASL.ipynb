{
 "cells": [
  {
   "cell_type": "code",
   "execution_count": null,
   "metadata": {},
   "outputs": [],
   "source": [
    "#%pip install mediapipe"
   ]
  },
  {
   "cell_type": "code",
   "execution_count": null,
   "metadata": {},
   "outputs": [],
   "source": [
    "import mediapipe as mp\n",
    "from matplotlib import pyplot as plt\n",
    "import random\n",
    "import glob\n",
    "from util import draw_landmarks_on_image\n",
    "from image_landmarker import ImageLandmarker\n",
    "from livestream_landmarker import LivestreamLandmarker\n",
    "import cv2 as cv"
   ]
  },
  {
   "cell_type": "code",
   "execution_count": null,
   "metadata": {},
   "outputs": [],
   "source": [
    "# extract dataset from zip\n",
    "import zipfile\n",
    "with zipfile.ZipFile(\"american-sign-language-letters.v1i.coco.zip\",\"r\") as zip_ref:\n",
    "    zip_ref.extractall(\"american-sign-language-letters.v1i.coco\")"
   ]
  },
  {
   "cell_type": "code",
   "execution_count": null,
   "metadata": {},
   "outputs": [],
   "source": [
    "def image_detector(image):\n",
    "    try:\n",
    "        detector = ImageLandmarker()\n",
    "        detection_result = detector.detect(image)\n",
    "    finally: \n",
    "        detector.close()\n",
    "                    # method in util.py\n",
    "    annotated_image = draw_landmarks_on_image(image.numpy_view(), detection_result)\n",
    "    plt.axis('off')\n",
    "    plt.imshow(annotated_image)"
   ]
  },
  {
   "cell_type": "code",
   "execution_count": null,
   "metadata": {},
   "outputs": [],
   "source": [
    "# prepare from image\n",
    "def get_random_image():\n",
    "    filename = random.choice(glob.glob('./american-sign-language-letters.v1i.coco/train/*.jpg'))\n",
    "    return mp.Image.create_from_file(filename)\n",
    "\n",
    "# # Load the input image from a numpy array.\n",
    "# mp_image = mp.Image(image_format=mp.ImageFormat.SRGB, data=numpy_image)"
   ]
  },
  {
   "cell_type": "code",
   "execution_count": null,
   "metadata": {},
   "outputs": [],
   "source": [
    "image_detector(get_random_image())"
   ]
  },
  {
   "cell_type": "code",
   "execution_count": null,
   "metadata": {},
   "outputs": [],
   "source": [
    "def livestream_detector():\n",
    "    try:\n",
    "        cap = cv.VideoCapture(0)\n",
    "        detector = LivestreamLandmarker()\n",
    "        if not cap.isOpened():\n",
    "            print(\"Cannot open camera\")\n",
    "            exit()\n",
    "        while True:\n",
    "            # Capture frame-by-frame\n",
    "            ret, frame = cap.read()\n",
    "            # if frame is read correctly ret is True\n",
    "            if not ret:\n",
    "                print(\"Can't receive frame (stream end?). Exiting ...\")\n",
    "                break\n",
    "            mp_image = mp.Image(image_format=mp.ImageFormat.SRGB, data=frame)\n",
    "            detector.detect_async(mp_image)\n",
    "            annotated_image = draw_landmarks_on_image(mp_image.numpy_view(), detector.result)\n",
    "            cv.imshow('frame', annotated_image)\n",
    "            # 1000/50 = 20 FPS\n",
    "            if cv.waitKey(100) == ord('q'):\n",
    "                break\n",
    "    finally:    \n",
    "        # When everything done, release the capture\n",
    "        detector.close()\n",
    "        cap.release()\n",
    "        cv.destroyAllWindows()"
   ]
  },
  {
   "cell_type": "code",
   "execution_count": null,
   "metadata": {},
   "outputs": [],
   "source": [
    "livestream_detector()"
   ]
  }
 ],
 "metadata": {
  "kernelspec": {
   "display_name": "base",
   "language": "python",
   "name": "python3"
  },
  "language_info": {
   "codemirror_mode": {
    "name": "ipython",
    "version": 3
   },
   "file_extension": ".py",
   "mimetype": "text/x-python",
   "name": "python",
   "nbconvert_exporter": "python",
   "pygments_lexer": "ipython3",
   "version": "3.11.5"
  }
 },
 "nbformat": 4,
 "nbformat_minor": 2
}
